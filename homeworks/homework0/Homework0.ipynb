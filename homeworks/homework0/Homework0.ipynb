{
 "cells": [
  {
   "cell_type": "markdown",
   "metadata": {},
   "source": [
    "# ML-for-AE: Homework 0 \n",
    "## Getting Started with Python \n",
    "\n",
    "This homework is designed as a quick and easy intro to Python. If you spend more than a few hours on this assignment, this class will likely be quite difficult for you. If anywhere in this homework you see a \"What do you notice?\" or a \"What happens?\" question at the end of the bulletpoint, you do not need to explicitly answer these. They are for you to think about on your own. If we do desire a response from you, there will be a designated **Free Response** section for you to complete it. \n",
    "\n",
    "### General Homework Policies \n",
    "* Do not import any python libraries unless the exercise explicitly asks you to do so. \n",
    "* Sharing code with other students on homeworks is considered a violation of the GT Honor Code. \n",
    "* Please do not use AI to generate code on this assignment. If you use it as a learning aid, that's fine, just write a short comment describing how you used it. \n",
    "* Some exercises may have a free response question at the end. We are not looking for anything more than a short paragraph for these questions. In some cases, just a sentence will suffice. "
   ]
  },
  {
   "cell_type": "markdown",
   "metadata": {},
   "source": [
    "## Exercise 1: Loading a Spreadsheet with Pandas\n",
    "\n",
    "Load the `CDRSamples.csv` dataset into your Jupyter notebook using the `pandas` library, which is widely used throughout the data-science world. This will load this `.csv` (which stands for comma-separated values) table into your notebook as a \"DataFrame\" object. This is a useful structure for manipulating spreadsheets programmatically. To receive full credit for this exercise, you must: \n",
    "\n",
    "- Import the `pandas` library and name it `pd` so we don't have to type out the whole name each time we use it. \n",
    "- Assign the `CDRSamples.csv` file as a Pandas Dataframe to a variable called `df`. \n",
    "- Print the number of rows contained in this dataframe. \n",
    "- Display the first 5 rows of the dataset using the `.head()` method on the `df` variable"
   ]
  },
  {
   "cell_type": "code",
   "execution_count": 1,
   "metadata": {},
   "outputs": [],
   "source": [
    "# YOUR CODE HERE \n",
    "\n",
    "# 1.) Import the \"pandas\" library and name it \"pd\" so we don't have to call the whole name each time we use it\n",
    "\n",
    "# 2.) Assign the 'CDRSamples.csv' file as a Pandas Dataframe to a variable called \"df\"\n",
    "\n",
    "# 3.) Print the number of rows in the dataframe \n",
    "\n",
    "# 4.) Display the first 5 rows of the dataset using the .head() method on the \"df\" variable \n"
   ]
  },
  {
   "cell_type": "markdown",
   "metadata": {},
   "source": [
    "## Exercise 2: Graphing in Python \n",
    "\n",
    "Visualizing relationships between variables is an extremely important part of data analysis. When using Python, the most common plotting package is `matplotlib`. In this exercise, we will create a simple scatterplot between the Fuel:Oxidzer Ratio (**phi**) and the maximum temperature. To receive full credit for this exercise, you must: \n",
    "\n",
    "- Import the pyplot package from matplotlib and name it `plt` \n",
    "- Plot a scatterplot showing the relationship between the **phi** and **T_max** values. Fuel:Oxidizer Ratio should be on the X-Axis and Maximum Temperature should be on the Y-Axis. Adjust the size of the points in the scatterplot to 0.5. \n",
    "- Add a grid to the plot \n",
    "- Add appropriate X and Y Labels to the plot. \n",
    "- Add an appropriate title to the plot "
   ]
  },
  {
   "cell_type": "code",
   "execution_count": 2,
   "metadata": {},
   "outputs": [],
   "source": [
    "# 1.) Import the pyplot package from matploblib and name it 'plt' \n",
    "\n",
    "# 2.) Plot a scatterplot visualizing the relationship between the Fuel:Oxidizer Ratio and Maximum Temperature values \n",
    "\n",
    "# 3.) Add a grid, axes labels and a title to the plot "
   ]
  },
  {
   "cell_type": "markdown",
   "metadata": {},
   "source": [
    "## Exercise 3: Python Built-In Data Types\n",
    "In this exercise, we'll learn about different ways to store data in python. In the previous example, we learned about dataframes with the Pandas library, but there are a handful of important data-structures. To do this, we'll have a simple exercise for each of the built-in data types. You can always use the `type()` function to see what type a variable is. "
   ]
  },
  {
   "cell_type": "markdown",
   "metadata": {},
   "source": [
    "### Numeric Types\n",
    "**int:** Represents whole numbers e.g. (1, 42, -3). \n",
    "\n",
    "**float:** Represents real numbers with decimal points e.g. 1.5, -2.8, etc. \n",
    "\n",
    "**complex:** Complex numbers e.g. `2+3j`\n",
    "\n",
    "- Try multiplying a `4` of type `int` and `5.0` of type `float`. Print the datatype of the result using the `type()` function. \n",
    "- Try multiplying a `4` of type `int` and `1+0j` of type `complex`. Print the datatype of the result. \n",
    "- Try multiplying a `5.0` of type `float` and `1+0j` of type `complex`. Print the datatype of the result"
   ]
  },
  {
   "cell_type": "code",
   "execution_count": null,
   "metadata": {},
   "outputs": [],
   "source": []
  },
  {
   "cell_type": "markdown",
   "metadata": {},
   "source": [
    "### Sequence Types\n",
    "**str:** Represents a sequence of characters (string) e.g. `\"Hello World!\"`. \n",
    "\n",
    "**list:** Represents an ordered, mutable (changeable) collection of items e.g. `[1, 5, -1]` or `['a', 'b', 'c']`\n",
    "\n",
    "**tuple:** Represents an ordered, immutable (unchangeable) collection of items e.g. `(1, 5, -1)` or `('a', 'b', 'c')`\n",
    "\n",
    "- Create a string variable called `my_string` and print out the first three letters of the string. \n",
    "- Create a list of five numbers called `my_list` and print out the first and last entry of the list using the 0 and -1 indices\n",
    "- Create a tuple of three strings called `my_tuple` and attempt to set the 0th entry to 'X'. What happens? "
   ]
  },
  {
   "cell_type": "code",
   "execution_count": 3,
   "metadata": {},
   "outputs": [],
   "source": [
    "# 1.) String variables \n",
    "\n",
    "# 2.) List variable \n",
    "\n",
    "# 3.) Tuple variable"
   ]
  },
  {
   "cell_type": "markdown",
   "metadata": {},
   "source": [
    "### Mapping and Set Types\n",
    "**dictionary:** Represents a collection of key-value pairs (e.g., `{\"name\": \"Alice\", \"age\": 30}`)\n",
    "\n",
    "**set:** Represents an unordered collection of unique items (e.g., {1, 2, 3})\n",
    "\n",
    "- A dictionary of dictionaries has been provided. Print out Alice's age. Print out Federico's occupation. \n",
    "- A set has been provided. Try to add the int 3 to the set and print out the set. What happens? "
   ]
  },
  {
   "cell_type": "code",
   "execution_count": 4,
   "metadata": {},
   "outputs": [],
   "source": [
    "# 1.) The following dictionary of dictionaries has been provided. Print out alice's age. Print out Federico's occupation. NOTE: You should not modify the dictionary. \n",
    "my_dict = {\n",
    "    'alice':{\n",
    "        'age':13, \n",
    "        'occupation':'student'\n",
    "    }, \n",
    "    'junhui':{\n",
    "        'age':31, \n",
    "        'occupation':'astronaut'\n",
    "    }, \n",
    "    'federico':{\n",
    "        'age':55, \n",
    "        'occupation':'carpenter'\n",
    "    }\n",
    "\n",
    "}\n",
    "\n",
    "# 2.) The following set has been provided. Try to add the int 3 to the set and print out the set. What happens? \n",
    "my_set = set([1,2,3]) \n"
   ]
  },
  {
   "cell_type": "markdown",
   "metadata": {},
   "source": [
    "### Special Types \n",
    "**Boolean:**  Represents a Boolean value, either `True` or `False`\n",
    "\n",
    "**NoneType:** Represents the absence of a value (e.g., `None`)\n",
    "\n",
    "No exercises on these, just useful to know! "
   ]
  },
  {
   "cell_type": "markdown",
   "metadata": {},
   "source": [
    "## Exercise 4: Loops in Python \n",
    "\n",
    "Loops are useful ways to iterate over data. In the following exercise, a list called `my_list` has been defined for you. To get full credit for this exercise, you must do the following: \n",
    "- Using a `for` loop, print out the first 4 elements of the list. \n",
    "- Using a `while` loop, print out items in the list from first to last until an `x` is found. (You should not print out the `x`). \n"
   ]
  },
  {
   "cell_type": "code",
   "execution_count": 5,
   "metadata": {},
   "outputs": [],
   "source": [
    "my_list = ['a', 'b', None, 3.14, 7, 3, '3', 'x', True, (1,2)] # Lists can contain multiple different datatypes... we can see strings, ints, floats, NoneTypes, Booleans and Tuples in this list! \n",
    "\n",
    "# Use a for-loop to print out the first 4 items in the list\n",
    "\n",
    "# Use a while-loop to print out the items of the list (hint: you may need to initialize more variables than have been provided i.e. a counter variable)\n",
    "\n"
   ]
  },
  {
   "cell_type": "markdown",
   "metadata": {},
   "source": [
    "## Exercise 5: Functions\n",
    "\n",
    "A function is a reusable block of code that takes a set of *parameters* and executes some set of instructions based on those parameters. For example, if we didn't want to convert between Farenheit and Celsius by hand each time, we might write a function called `to_celsius(farenheit_temp)` that does it for us. The name of the function, `to_celsius` takes in a variable called `farenheit_temp` and then returns the conversion so you don't have to manually calculate it each time. \n",
    "\n",
    "- Finish the logic of the function that takes a temperature in farenheit and converts it to celsius and print out the conversion from 83F and 32F"
   ]
  },
  {
   "cell_type": "code",
   "execution_count": 6,
   "metadata": {},
   "outputs": [
    {
     "name": "stdout",
     "output_type": "stream",
     "text": [
      "None\n",
      "None\n"
     ]
    }
   ],
   "source": [
    "def to_celsius(farenheit_temp):\n",
    "    pass # Delete the pass statement and replace with your code\n",
    "\n",
    "print(to_celsius(83))\n",
    "print(to_celsius(32))"
   ]
  },
  {
   "cell_type": "markdown",
   "metadata": {},
   "source": [
    "## Exercise 6: Matrices, Vectors and Linear Algebra\n",
    "\n",
    "In Python, the main library for working with Matrices, Vectors and Linear Algebra is called \"NumPy\". This is a powerful library whose internals are mostly written in C, a much more efficient (but much harder to learn and interpret) programming language than Python. You will encounter this trend often; Python is extremely flexible and readible, but is often orders of magnitude slower than other compiled languages. \n",
    "\n",
    "To get credit on this exercise, you must do the following: \n",
    "\n",
    "- Import the `numpy` and rename it `np` \n",
    "- Create two vectors, `u` and `v` and print out the following: `np.dot(u,v)` (the dot-product), `np.inner(u,v)` (the inner-product) and `u.T @ v` (matrix multiplication of $u^\\top v$). What do you notice? \n",
    "- Create a 3x3 matrix from scratch and print out its rank using the `np.linalg.matrix_rank` function\n",
    "- Create a 3x3 matrix of ones using the `np.ones` function and print out its rank. "
   ]
  },
  {
   "cell_type": "code",
   "execution_count": 7,
   "metadata": {},
   "outputs": [],
   "source": [
    "# Import numpy and rename it np \n",
    "\n",
    "# Create two vectors u and v and print out their dot product \n",
    "\n",
    "# Create any 3x3 matrix and print out its rank using the matrix_rank function \n",
    "\n",
    "\n",
    "# Create a 3x3 matrix of ones and print out its rank\n"
   ]
  }
 ],
 "metadata": {
  "kernelspec": {
   "display_name": "Python 3",
   "language": "python",
   "name": "python3"
  },
  "language_info": {
   "codemirror_mode": {
    "name": "ipython",
    "version": 3
   },
   "file_extension": ".py",
   "mimetype": "text/x-python",
   "name": "python",
   "nbconvert_exporter": "python",
   "pygments_lexer": "ipython3",
   "version": "3.11.4"
  }
 },
 "nbformat": 4,
 "nbformat_minor": 2
}
