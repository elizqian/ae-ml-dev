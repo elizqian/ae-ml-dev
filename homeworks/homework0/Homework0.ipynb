{
 "cells": [
  {
   "cell_type": "markdown",
   "metadata": {},
   "source": [
    "# ML-for-AE: Homework 0 \n",
    "## Getting Started with Python \n",
    "\n",
    "This homework is designed as a quick and easy intro to Python. If you spend more than a few hours on this assignment, this class will likely be quite difficult for you. If anywhere in this homework you see a \"What do you notice?\" or a \"What happens?\" question at the end of the bulletpoint, you do not need to explicitly answer these. They are for you to think about on your own. If we do desire a response from you, there will be a designated **Free Response** section for you to complete it. \n",
    "\n",
    "### General Homework Policies \n",
    "* You must not import any python libraries unless the exercise explicitly asks you to do so. \n",
    "* Sharing code with other students on homeworks is considered a violation of the GT Honor Code. \n",
    "* Please do not use AI to generate code on this assignment. If you use it as a learning aid, that's fine, just write a short comment describing how you used it. \n",
    "* Some exercises may have a free response question at the end. We are not looking for anything more than a short paragraph for these questions. In some cases, just a sentence will suffice. "
   ]
  },
  {
   "cell_type": "markdown",
   "metadata": {},
   "source": [
    "## Exercise 1: Loading a Spreadsheet with Pandas\n",
    "\n",
    "Load the `CDRSamples.csv` dataset into your Jupyter notebook using the `pandas` library, which is widely used throughout the data-science world. This will load this `.csv` (which stands for comma-separated values) table into your notebook as a \"DataFrame\" object. This is a useful structure for manipulating spreadsheets programmatically. To receive full credit for this exercise, you must: \n",
    "\n",
    "- Import the `pandas` library and name it `pd` so we don't have to type out the whole name each time we use it. \n",
    "- Assign the `CDRSamples.csv` file as a Pandas Dataframe to a variable called `df`. \n",
    "- Print the number of rows contained in this dataframe. \n",
    "- Display the first 5 rows of the dataset using the `.head()` method on the `df` variable"
   ]
  },
  {
   "cell_type": "code",
   "execution_count": 2,
   "metadata": {},
   "outputs": [
    {
     "name": "stdout",
     "output_type": "stream",
     "text": [
      "Number of Rows: 120000\n"
     ]
    },
    {
     "data": {
      "text/html": [
       "<div>\n",
       "<style scoped>\n",
       "    .dataframe tbody tr th:only-of-type {\n",
       "        vertical-align: middle;\n",
       "    }\n",
       "\n",
       "    .dataframe tbody tr th {\n",
       "        vertical-align: top;\n",
       "    }\n",
       "\n",
       "    .dataframe thead th {\n",
       "        text-align: right;\n",
       "    }\n",
       "</style>\n",
       "<table border=\"1\" class=\"dataframe\">\n",
       "  <thead>\n",
       "    <tr style=\"text-align: right;\">\n",
       "      <th></th>\n",
       "      <th>A</th>\n",
       "      <th>E</th>\n",
       "      <th>Ti</th>\n",
       "      <th>To</th>\n",
       "      <th>phi</th>\n",
       "      <th>T_max</th>\n",
       "    </tr>\n",
       "  </thead>\n",
       "  <tbody>\n",
       "    <tr>\n",
       "      <th>0</th>\n",
       "      <td>0.222878</td>\n",
       "      <td>5088.944077</td>\n",
       "      <td>326.976714</td>\n",
       "      <td>947.452301</td>\n",
       "      <td>0.647133</td>\n",
       "      <td>1081.116584</td>\n",
       "    </tr>\n",
       "    <tr>\n",
       "      <th>1</th>\n",
       "      <td>0.112300</td>\n",
       "      <td>7461.429319</td>\n",
       "      <td>256.857257</td>\n",
       "      <td>975.464063</td>\n",
       "      <td>1.056249</td>\n",
       "      <td>1262.945975</td>\n",
       "    </tr>\n",
       "    <tr>\n",
       "      <th>2</th>\n",
       "      <td>0.004896</td>\n",
       "      <td>1513.376459</td>\n",
       "      <td>324.362214</td>\n",
       "      <td>915.987019</td>\n",
       "      <td>1.465834</td>\n",
       "      <td>1686.078741</td>\n",
       "    </tr>\n",
       "    <tr>\n",
       "      <th>3</th>\n",
       "      <td>0.277023</td>\n",
       "      <td>2469.082289</td>\n",
       "      <td>369.753997</td>\n",
       "      <td>970.686809</td>\n",
       "      <td>1.169102</td>\n",
       "      <td>1621.811163</td>\n",
       "    </tr>\n",
       "    <tr>\n",
       "      <th>4</th>\n",
       "      <td>0.239761</td>\n",
       "      <td>3434.308095</td>\n",
       "      <td>338.511066</td>\n",
       "      <td>978.108594</td>\n",
       "      <td>0.553839</td>\n",
       "      <td>1090.002244</td>\n",
       "    </tr>\n",
       "  </tbody>\n",
       "</table>\n",
       "</div>"
      ],
      "text/plain": [
       "          A            E          Ti          To       phi        T_max\n",
       "0  0.222878  5088.944077  326.976714  947.452301  0.647133  1081.116584\n",
       "1  0.112300  7461.429319  256.857257  975.464063  1.056249  1262.945975\n",
       "2  0.004896  1513.376459  324.362214  915.987019  1.465834  1686.078741\n",
       "3  0.277023  2469.082289  369.753997  970.686809  1.169102  1621.811163\n",
       "4  0.239761  3434.308095  338.511066  978.108594  0.553839  1090.002244"
      ]
     },
     "execution_count": 2,
     "metadata": {},
     "output_type": "execute_result"
    }
   ],
   "source": [
    "# YOUR CODE HERE \n",
    "\n",
    "# 1.) Import the \"pandas\" library and name it \"pd\" so we don't have to call the whole name each time we use it\n",
    "import pandas as pd \n",
    "\n",
    "# 2.) Assign the 'CDRSamples.csv' file as a Pandas Dataframe to a variable called \"df\"\n",
    "df = pd.read_csv(\"CDRSamples.csv\")\n",
    "\n",
    "# 3.) Print the number of rows in the dataframe \n",
    "print(\"Number of Rows: %d\" % (len(df)))\n",
    "\n",
    "# 4.) Display the first 5 rows of the dataset using the .head() method on the \"df\" variable \n",
    "df.head()"
   ]
  },
  {
   "cell_type": "markdown",
   "metadata": {},
   "source": [
    "## Exercise 2: Graphing in Python \n",
    "\n",
    "Visualizing relationships between variables is an extremely important part of data analysis. When using Python, the most common plotting package is `matplotlib`. In this exercise, we will create a simple scatterplot between the Fuel:Oxidzer Ratio (**phi**) and the maximum temperature. To receive full credit for this exercise, you must: \n",
    "\n",
    "- Import the pyplot package from matplotlib and name it `plt` \n",
    "- Plot a scatterplot showing the relationship between the **phi** and **T_max** values. Fuel:Oxidizer Ratio should be on the X-Axis and Maximum Temperature should be on the Y-Axis. Adjust the size of the points in the scatterplot to 0.5. \n",
    "- Add a grid to the plot \n",
    "- Add appropriate X and Y Labels to the plot. \n",
    "- Add an appropriate title to the plot "
   ]
  },
  {
   "cell_type": "code",
   "execution_count": 4,
   "metadata": {},
   "outputs": [
    {
     "data": {
      "text/plain": [
       "Text(0.5, 1.0, 'Maximum Temperature vs. Fuel:Oxidizer Ratio')"
      ]
     },
     "execution_count": 4,
     "metadata": {},
     "output_type": "execute_result"
    },
    {
     "data": {
      "image/png": "[encoded data removed]",
      "text/plain": [
       "<Figure size 640x480 with 1 Axes>"
      ]
     },
     "metadata": {},
     "output_type": "display_data"
    }
   ],
   "source": [
    "# 1.) Import the pyplot package from matploblib and name it 'plt' \n",
    "import matplotlib.pyplot as plt \n",
    "\n",
    "# 2.) Plot a scatterplot visualizing the relationship between the Fuel:Oxidizer Ratio and Maximum Temperature values \n",
    "plt.scatter(df['phi'], df['T_max'], s = 0.5)\n",
    "\n",
    "# 3.) Add a grid, axes labels and a title to the plot \n",
    "plt.grid()\n",
    "plt.xlabel(\"Fuel:Oxidizer Ratio\")\n",
    "plt.ylabel(\"Maximum Temperature\")\n",
    "plt.title(\"Maximum Temperature vs. Fuel:Oxidizer Ratio\")"
   ]
  },
  {
   "cell_type": "markdown",
   "metadata": {},
   "source": [
    "## Exercise 3: Python Built-In Data Types\n",
    "In this exercise, we'll learn about different ways to store data in python. In the previous example, we learned about dataframes with the Pandas library, but there are a handful of important data-structures. To do this, we'll have a simple exercise for each of the built-in data types. You can always use the `type()` function to see what type a variable is. "
   ]
  },
  {
   "cell_type": "markdown",
   "metadata": {},
   "source": [
    "### Numeric Types\n",
    "**int:** Represents whole numbers e.g. (1, 42, -3). \n",
    "\n",
    "**float:** Represents real numbers with decimal points e.g. 1.5, -2.8, etc. \n",
    "\n",
    "**complex:** Complex numbers e.g. `2+3j`\n",
    "\n",
    "- Try multiplying a `4` of type `int` and `5.0` of type `float`. Print the datatype of the result using the `type()` function. \n",
    "- Try multiplying a `4` of type `int` and `1+0j` of type `complex`. Print the datatype of the result. \n",
    "- Try multiplying a `5.0` of type `float` and `1+0j` of type `complex`. Print the datatype of the result"
   ]
  },
  {
   "cell_type": "code",
   "execution_count": 6,
   "metadata": {},
   "outputs": [
    {
     "name": "stdout",
     "output_type": "stream",
     "text": [
      "<class 'float'>\n",
      "<class 'complex'>\n",
      "<class 'complex'>\n"
     ]
    }
   ],
   "source": [
    "print(type(4*5.0))\n",
    "print(type(4*(1+0j)))\n",
    "print(type(5.0*(1+0j)))"
   ]
  },
  {
   "cell_type": "markdown",
   "metadata": {},
   "source": [
    "### Sequence Types\n",
    "**str:** Represents a sequence of characters (string) e.g. `\"Hello World!\"`. \n",
    "\n",
    "**list:** Represents an ordered, mutable (changeable) collection of items e.g. `[1, 5, -1]` or `['a', 'b', 'c']`\n",
    "\n",
    "**tuple:** Represents an ordered, immutable (unchangeable) collection of items e.g. `(1, 5, -1)` or `('a', 'b', 'c')`\n",
    "\n",
    "- Create a string variable called `my_string` and print out the first three letters of the string. \n",
    "- Create a list of five numbers called `my_list` and print out the first and last entry of the list using the 0 and -1 indices\n",
    "- Create a tuple of three strings called `my_tuple` and attempt to set the 0th entry to 'X'. What happens? "
   ]
  },
  {
   "cell_type": "code",
   "execution_count": 10,
   "metadata": {},
   "outputs": [
    {
     "name": "stdout",
     "output_type": "stream",
     "text": [
      "Hel\n",
      "1\n",
      "5\n",
      "['X', 2, 3, 4, 5]\n"
     ]
    },
    {
     "ename": "TypeError",
     "evalue": "'tuple' object does not support item assignment",
     "output_type": "error",
     "traceback": [
      "\u001b[1;31m---------------------------------------------------------------------------\u001b[0m",
      "\u001b[1;31mTypeError\u001b[0m                                 Traceback (most recent call last)",
      "Cell \u001b[1;32mIn[10], line 14\u001b[0m\n\u001b[0;32m     12\u001b[0m \u001b[38;5;66;03m# 3.) Tuple exercise\u001b[39;00m\n\u001b[0;32m     13\u001b[0m my_tuple \u001b[38;5;241m=\u001b[39m (\u001b[38;5;124m'\u001b[39m\u001b[38;5;124ma\u001b[39m\u001b[38;5;124m'\u001b[39m, \u001b[38;5;124m'\u001b[39m\u001b[38;5;124mb\u001b[39m\u001b[38;5;124m'\u001b[39m, \u001b[38;5;124m'\u001b[39m\u001b[38;5;124mc\u001b[39m\u001b[38;5;124m'\u001b[39m) \n\u001b[1;32m---> 14\u001b[0m \u001b[43mmy_tuple\u001b[49m\u001b[43m[\u001b[49m\u001b[38;5;241;43m0\u001b[39;49m\u001b[43m]\u001b[49m \u001b[38;5;241m=\u001b[39m \u001b[38;5;124m'\u001b[39m\u001b[38;5;124mX\u001b[39m\u001b[38;5;124m'\u001b[39m\n",
      "\u001b[1;31mTypeError\u001b[0m: 'tuple' object does not support item assignment"
     ]
    }
   ],
   "source": [
    "# 1.) String variables \n",
    "my_string = \"Hello World!\" \n",
    "print(my_string[0:3])\n",
    "\n",
    "# 2.) List variable \n",
    "my_list = [1, 2, 3, 4, 5]\n",
    "print(my_list[0])\n",
    "print(my_list[-1])\n",
    "my_list[0] = 'X'\n",
    "print(my_list)\n",
    "\n",
    "# 3.) Tuple exercise\n",
    "my_tuple = ('a', 'b', 'c') \n",
    "my_tuple[0] = 'X'"
   ]
  },
  {
   "cell_type": "markdown",
   "metadata": {},
   "source": [
    "### Mapping and Set Types\n",
    "**dictionary:** Represents a collection of key-value pairs (e.g., `{\"name\": \"Alice\", \"age\": 30}`)\n",
    "\n",
    "**set:** Represents an unordered collection of unique items (e.g., {1, 2, 3})\n",
    "\n",
    "- A dictionary of dictionaries has been provided. Print out Alice's age. Print out Federico's occupation. \n",
    "- A set has been provided. Try to add the int 3 to the set and print out the set. What happens? "
   ]
  },
  {
   "cell_type": "code",
   "execution_count": 1,
   "metadata": {},
   "outputs": [
    {
     "name": "stdout",
     "output_type": "stream",
     "text": [
      "13\n",
      "carpenter\n",
      "{1, 2, 3}\n"
     ]
    }
   ],
   "source": [
    "# 1.) The following dictionary of dictionaries has been provided. Print out alice's age. Print out Federico's occupation. NOTE: You should not modify the dictionary. \n",
    "my_dict = {\n",
    "    'alice':{\n",
    "        'age':13, \n",
    "        'occupation':'student'\n",
    "    }, \n",
    "    'junhui':{\n",
    "        'age':31, \n",
    "        'occupation':'astronaut'\n",
    "    }, \n",
    "    'federico':{\n",
    "        'age':55, \n",
    "        'occupation':'carpenter'\n",
    "    }\n",
    "\n",
    "}\n",
    "\n",
    "print(my_dict['alice']['age'])\n",
    "print(my_dict['federico']['occupation'])\n",
    "\n",
    "# 2.) The following set has been provided. Try to add the int 3 to the set and print out the set. What happens? \n",
    "my_set = set([1,2,3]) \n",
    "my_set.add(3) \n",
    "print(my_set)"
   ]
  },
  {
   "cell_type": "markdown",
   "metadata": {},
   "source": [
    "### Special Types \n",
    "**Boolean:**  Represents a Boolean value, either `True` or `False`\n",
    "\n",
    "**NoneType:** Represents the absence of a value (e.g., `None`)\n",
    "\n",
    "No exercises on these, just useful to know! "
   ]
  },
  {
   "cell_type": "markdown",
   "metadata": {},
   "source": [
    "## Exercise 4: Loops in Python \n",
    "\n",
    "Loops are useful ways to iterate over data. In the following exercise, a list called `my_list` has been defined for you. To get full credit for this exercise, you must do the following: \n",
    "- Using a `for` loop, print out the first 4 elements of the list. \n",
    "- Using a `while` loop, print out items in the list from first to last until an `x` is found. (You should not print out the `x`). \n"
   ]
  },
  {
   "cell_type": "code",
   "execution_count": null,
   "metadata": {},
   "outputs": [
    {
     "name": "stdout",
     "output_type": "stream",
     "text": [
      "a\n",
      "b\n",
      "None\n",
      "3.14\n",
      "a\n",
      "b\n",
      "None\n",
      "3.14\n",
      "7\n",
      "3\n",
      "3\n"
     ]
    }
   ],
   "source": [
    "my_list = ['a', 'b', None, 3.14, 7, 3, '3', 'x', True, (1,2)] # Lists can contain multiple different datatypes... we can see strings, ints, floats, NoneTypes, Booleans and Tuples in this list! \n",
    "\n",
    "# Use a for-loop to print out the first 4 items in the list: \n",
    "for i in range(4):\n",
    "    print(my_list[i])\n",
    "\n",
    "# Use a while-loop to print out the items of the list (hint: you may need to initialize more variables than have been provided i.e. a counter variable)\n",
    "i=0\n",
    "this_item = my_list[0]\n",
    "while this_item != 'x':\n",
    "    print(this_item)\n",
    "    this_item = my_list[i+1]\n",
    "    i += 1 \n",
    "\n"
   ]
  },
  {
   "cell_type": "markdown",
   "metadata": {},
   "source": [
    "## Exercise 5: Functions\n",
    "\n",
    "A function is a reusable block of code that takes a set of *parameters* and executes some set of instructions based on those parameters. For example, if we didn't want to convert between Farenheit and Celsius by hand each time, we might write a function called `to_celsius(farenheit_temp)` that does it for us. The name of the function, `to_celsius` takes in a variable called `farenheit_temp` and then returns the conversion so you don't have to manually calculate it each time. \n",
    "\n",
    "- Finish the logic of the function that takes a temperature in farenheit and converts it to celsius and print out the conversion from 83F and 32F"
   ]
  },
  {
   "cell_type": "code",
   "execution_count": 4,
   "metadata": {},
   "outputs": [
    {
     "name": "stdout",
     "output_type": "stream",
     "text": [
      "28.333333333333336\n",
      "0.0\n"
     ]
    }
   ],
   "source": [
    "def to_celsius(farenheit_temp):\n",
    "    return (farenheit_temp - 32) * (5/9)\n",
    "\n",
    "print(to_celsius(83))\n",
    "print(to_celsius(32))"
   ]
  },
  {
   "cell_type": "markdown",
   "metadata": {},
   "source": [
    "## Exercise 6: Matrices, Vectors and Linear Algebra\n",
    "\n",
    "In Python, the main library for working with Matrices, Vectors and Linear Algebra is called \"NumPy\". This is a powerful library whose internals are mostly written in C, a much more efficient (but much harder to learn and interpret) programming language than Python. You will encounter this trend often; Python is extremely flexible and readible, but is often orders of magnitude slower than other compiled languages. \n",
    "\n",
    "To get credit on this exercise, you must do the following: \n",
    "\n",
    "- Import the `numpy` and rename it `np` \n",
    "- Create two vectors, `u` and `v` and print out the following: `np.dot(u,v)` (the dot-product), `np.inner(u,v)` (the inner-product) and `u.T @ v` (matrix multiplication of $u^\\top v$). What do you notice? \n",
    "- Create a 3x3 matrix from scratch and print out its rank using the `np.linalg.matrix_rank` function\n",
    "- Create a 3x3 matrix of ones using the `np.ones` function and print out its rank. "
   ]
  },
  {
   "cell_type": "code",
   "execution_count": 11,
   "metadata": {},
   "outputs": [
    {
     "name": "stdout",
     "output_type": "stream",
     "text": [
      "-0.8840297801069701\n",
      "-0.8840297801069701\n",
      "-0.8840297801069701\n",
      "2\n",
      "1\n"
     ]
    }
   ],
   "source": [
    "# Import numpy and rename it np \n",
    "import numpy as np \n",
    "\n",
    "# Create two vectors u and v and print out their dot product \n",
    "u = np.random.randn(3) \n",
    "v = np.random.randn(3)\n",
    "print(np.dot(u,v))\n",
    "print(np.inner(u,v))\n",
    "print(u.T @ v)\n",
    "\n",
    "# Create a 3x3 matrix from scratch and print out its rank using the matrix_rank function \n",
    "A = np.array([\n",
    "    [1,2,3],\n",
    "    [4,5,6],\n",
    "    [7,8,9]\n",
    "])\n",
    "print(np.linalg.matrix_rank(A))\n",
    "\n",
    "# Create a 3x3 matrix of ones and print out its rank\n",
    "print(np.linalg.matrix_rank(np.ones((3,3))))"
   ]
  }
 ],
 "metadata": {
  "kernelspec": {
   "display_name": "Python 3",
   "language": "python",
   "name": "python3"
  },
  "language_info": {
   "codemirror_mode": {
    "name": "ipython",
    "version": 3
   },
   "file_extension": ".py",
   "mimetype": "text/x-python",
   "name": "python",
   "nbconvert_exporter": "python",
   "pygments_lexer": "ipython3",
   "version": "3.12.5"
  }
 },
 "nbformat": 4,
 "nbformat_minor": 2
}
