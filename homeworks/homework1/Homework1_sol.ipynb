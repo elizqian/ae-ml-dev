{
 "cells": [
  {
   "cell_type": "markdown",
   "metadata": {},
   "source": [
    "# ML-for-AE: Homework 0 \n",
    "## Executing Code and Simple Linear Regression\n",
    "\n",
    "In this homework, we will get started with Python and analyze a simple dataset. We will study a *Convection-Duffsion-Reaction* problem which considers how a premixed flame moves and reacts within a chamber. What we're interested in is the maximum temperature observed in that chamber under different conditions. The details of this scenario aren't critical to understanding and completing this homework. \n",
    "\n",
    "### General Homework Policies \n",
    "* You must not import any python libraries unless the question explicitly asks you to do so. \n",
    "* Some exercises may have a free response question at the end. We are not looking for anything more than a short paragraph for these questions. In some cases, just a sentence will suffice. "
   ]
  },
  {
   "cell_type": "markdown",
   "metadata": {},
   "source": [
    "## Exercise 1: Loading a Spreadsheet with Pandas (Again)\n",
    "\n",
    "Like Homework0, load the `CDRSamples.csv` dataset into your Jupyter notebook using the `pandas` library, which is widely used throughout the data-science world. This will load this `.csv` (which stands for comma-separated values) table into your notebook as a \"DataFrame\" object. This is a useful structure for manipulating spreadsheets programmatically. To receive full credit for this exercise, you must: \n",
    "\n",
    "- Import the `pandas` library and name it `pd` so we don't have to type out the whole name each time we use it. \n",
    "- Assign the `CDRSamples.csv` file as a Pandas Dataframe to a variable called `df`. \n",
    "- Print the number of rows contained in this dataframe. \n",
    "- Display the first 5 rows of the dataset using the `.head()` method on the `df` variable"
   ]
  },
  {
   "cell_type": "code",
   "execution_count": 7,
   "metadata": {},
   "outputs": [
    {
     "name": "stdout",
     "output_type": "stream",
     "text": [
      "Number of Rows: 120000\n"
     ]
    },
    {
     "data": {
      "text/html": [
       "<div>\n",
       "<style scoped>\n",
       "    .dataframe tbody tr th:only-of-type {\n",
       "        vertical-align: middle;\n",
       "    }\n",
       "\n",
       "    .dataframe tbody tr th {\n",
       "        vertical-align: top;\n",
       "    }\n",
       "\n",
       "    .dataframe thead th {\n",
       "        text-align: right;\n",
       "    }\n",
       "</style>\n",
       "<table border=\"1\" class=\"dataframe\">\n",
       "  <thead>\n",
       "    <tr style=\"text-align: right;\">\n",
       "      <th></th>\n",
       "      <th>A</th>\n",
       "      <th>E</th>\n",
       "      <th>Ti</th>\n",
       "      <th>To</th>\n",
       "      <th>phi</th>\n",
       "      <th>T_max</th>\n",
       "    </tr>\n",
       "  </thead>\n",
       "  <tbody>\n",
       "    <tr>\n",
       "      <th>0</th>\n",
       "      <td>0.222878</td>\n",
       "      <td>5088.944077</td>\n",
       "      <td>326.976714</td>\n",
       "      <td>947.452301</td>\n",
       "      <td>0.647133</td>\n",
       "      <td>1081.116584</td>\n",
       "    </tr>\n",
       "    <tr>\n",
       "      <th>1</th>\n",
       "      <td>0.112300</td>\n",
       "      <td>7461.429319</td>\n",
       "      <td>256.857257</td>\n",
       "      <td>975.464063</td>\n",
       "      <td>1.056249</td>\n",
       "      <td>1262.945975</td>\n",
       "    </tr>\n",
       "    <tr>\n",
       "      <th>2</th>\n",
       "      <td>0.004896</td>\n",
       "      <td>1513.376459</td>\n",
       "      <td>324.362214</td>\n",
       "      <td>915.987019</td>\n",
       "      <td>1.465834</td>\n",
       "      <td>1686.078741</td>\n",
       "    </tr>\n",
       "    <tr>\n",
       "      <th>3</th>\n",
       "      <td>0.277023</td>\n",
       "      <td>2469.082289</td>\n",
       "      <td>369.753997</td>\n",
       "      <td>970.686809</td>\n",
       "      <td>1.169102</td>\n",
       "      <td>1621.811163</td>\n",
       "    </tr>\n",
       "    <tr>\n",
       "      <th>4</th>\n",
       "      <td>0.239761</td>\n",
       "      <td>3434.308095</td>\n",
       "      <td>338.511066</td>\n",
       "      <td>978.108594</td>\n",
       "      <td>0.553839</td>\n",
       "      <td>1090.002244</td>\n",
       "    </tr>\n",
       "  </tbody>\n",
       "</table>\n",
       "</div>"
      ],
      "text/plain": [
       "          A            E          Ti          To       phi        T_max\n",
       "0  0.222878  5088.944077  326.976714  947.452301  0.647133  1081.116584\n",
       "1  0.112300  7461.429319  256.857257  975.464063  1.056249  1262.945975\n",
       "2  0.004896  1513.376459  324.362214  915.987019  1.465834  1686.078741\n",
       "3  0.277023  2469.082289  369.753997  970.686809  1.169102  1621.811163\n",
       "4  0.239761  3434.308095  338.511066  978.108594  0.553839  1090.002244"
      ]
     },
     "execution_count": 7,
     "metadata": {},
     "output_type": "execute_result"
    }
   ],
   "source": [
    "# 1.) Import the \"pandas\" library and name it \"pd\" so we don't have to call the whole name each time we use it\n",
    "import pandas as pd \n",
    "\n",
    "# 2.) Assign the 'CDRSamples.csv' file as a Pandas Dataframe to a variable called \"df\"\n",
    "df = pd.read_csv(\"CDRSamples.csv\")\n",
    "\n",
    "# 3.) Print the number of rows in the dataframe \n",
    "print(\"Number of Rows: %d\" % (len(df)))\n",
    "\n",
    "# 4.) Display the first 5 rows of the dataset using the .head() method on the \"df\" variable \n",
    "df.head()"
   ]
  },
  {
   "cell_type": "markdown",
   "metadata": {},
   "source": [
    "## Exercise 2: Preparing the Dataset \n",
    "\n",
    "As we can see from the first few rows of the dataset, each row represents a unique selection of our input variables and the corresponding maximum temperature associated with those input variables. These inputs will be called \"features\". Features are observable traits of the system that we feed in as inputs to a machine learning model. The input features we'll be using are: \n",
    "\n",
    "* **A** and **E** are paremeters of the Arrhenius Equation (scaled for numerical stability), which determines the rate of reaction's dependence on temperature. \n",
    "* **Ti** is the temperature at the inlet of the chamber. \n",
    "* **To** is the temperature at the outlet of the chamber. \n",
    "* **phi** is the fuel:oxidizer ratio of the premixed inflow. \n",
    "\n",
    "The output we'll be using is: \n",
    "* **T_max** is the maximum temperature observed in the chamber. \n",
    "\n",
    "Our goal of this exercise is to use linear regression to predict the maximum temperature in the chamber, **T_max**, given we know **A, E, Ti, To** and **phi**. To get credit for this exercise you must: \n",
    "\n",
    "- Create a new DataFrame called `X_df` that only contains the input features (**A, E, Ti, To** and **phi**). \n",
    "- Create a new DataFrame named `Y_df` of only the **T_max** column. "
   ]
  },
  {
   "cell_type": "code",
   "execution_count": 8,
   "metadata": {},
   "outputs": [],
   "source": [
    "# 1.) Create a new DataFrame named `X_df` of only the input features of the dataframe\n",
    "X_df = df[['A', 'E', 'Ti', 'To', 'phi']]\n",
    "\n",
    "# 2.) Create a new DataFrame named `Y_df` of only the `T_max` column. \n",
    "Y_df = df[['T_max']]"
   ]
  },
  {
   "cell_type": "markdown",
   "metadata": {},
   "source": [
    "## Exercise 3: For-Loops and NumPy \n",
    "\n",
    "In Python, the main library for working with Matrices, Vectors and Linear Algebra is called \"NumPy\". This is a powerful library whose internals are mostly written in C, a much more efficient (but much harder to learn and interpret) programming language than Python. You will encounter this trend often; Python is extremely flexible and readible, but is often orders of magnitude slower than other compiled languages. \n",
    "\n",
    "We are interested in how much each feature is correlated with our output-of-interest, the maximum temperature (**T_max**). To get full-credit for this exercise, you must: \n",
    "\n",
    "* Import the `numpy` library and rename it `np`. \n",
    "* Use a `for` loop to print out the feature name and its pearson correlation coefficient ($R$) for each of the input features with the maximum temperature (**T_max**). *Hint: you may find the `df.columns` attribute useful* "
   ]
  },
  {
   "cell_type": "code",
   "execution_count": 9,
   "metadata": {},
   "outputs": [
    {
     "name": "stdout",
     "output_type": "stream",
     "text": [
      "Correlation Coefficient for A: 0.340\n",
      "Correlation Coefficient for E: -0.265\n",
      "Correlation Coefficient for Ti: 0.036\n",
      "Correlation Coefficient for To: 0.152\n",
      "Correlation Coefficient for phi: 0.882\n"
     ]
    }
   ],
   "source": [
    "# Import numpy library and rename it 'np' \n",
    "import numpy as np \n",
    "\n",
    "# Loop through the features of X_df and print out the feature name and correlation coefficient for each \n",
    "for feature in X_df.columns: \n",
    "    print(\"Correlation Coefficient for %s: %.3f\" % (feature, np.corrcoef(X_df[feature], Y_df['T_max'])[0,1]))\n"
   ]
  },
  {
   "cell_type": "markdown",
   "metadata": {},
   "source": [
    "### **Free Response:** Consider these correlation coefficients. Which feature will be most helpful in predicting maximum temperature? Which feature will be the least helpful? Why? \n",
    "\n",
    "*Your response here*"
   ]
  },
  {
   "cell_type": "markdown",
   "metadata": {},
   "source": [
    "## Exercise 4: Matrices in Python: \n",
    "\n",
    "With this in mind, in this question, we will solve for a set of weights that solve the following least-squares regression problem: \n",
    "\n",
    "\n",
    "$$ \\min_{\\beta} ||X \\beta - Y||_2^2 $$ \n",
    "\n",
    "Where $X \\in \\mathbb{R}^{N \\times d}$, $\\beta \\in \\mathbb{R}^{d}$ and $Y \\in \\mathbb{R}^{N}$. $N$ is the number of observations we have and $d$ is the number of features we have for each observation. The optimal $\\beta$ value, i.e. the weights that optimally map the features of $X$ to the output $Y$ can be computed with the \"normal equations\" (we'll discuss this problem in much more detail in class, this exercise is just to get you familiar with matrix operations using NumPy): \n",
    "\n",
    "$$ \\hat{\\beta} = (X^\\top X)^{-1} X^\\top Y $$ \n",
    "\n",
    "In this exercise, we will compute $\\hat{\\beta}$ using NumPy. To receive credit for this question, you must: \n",
    "\n",
    "- Convert the `X` and `Y` dataframes into 2D Numpy Arrays (matrices) called `X` and `Y`\n",
    "- Compute `beta_hat` using the second equation above. Use `np.linalg.inv()` to compute the matrix inverse and use `@` for matrix multiplication. \n",
    "- Print `beta_hat`\n",
    "\n",
    "*NOTE: Make sure your matrix dimensions are correct when you multiply $X^\\top X$. This should result in a 5x5 matrix. If you accidentally multiply $X X^\\top$, this will result in a 120,000 x 120,000 matrix which may exceed the memory of your machine.* "
   ]
  },
  {
   "cell_type": "code",
   "execution_count": 10,
   "metadata": {},
   "outputs": [
    {
     "name": "stdout",
     "output_type": "stream",
     "text": [
      "[[ 3.23706441e+02]\n",
      " [-3.12749145e-02]\n",
      " [ 1.18116759e-01]\n",
      " [ 5.85118168e-01]\n",
      " [ 8.31302630e+02]]\n"
     ]
    }
   ],
   "source": [
    "# 1.) Convert X_df and Y_df Dataframes into Numpy Arrays called X and Y\n",
    "X = X_df.values\n",
    "Y = Y_df.values\n",
    "\n",
    "# 2.) Compute beta_hat using the normal equations \n",
    "beta_hat = np.linalg.inv(X.T @ X) @ X.T @ Y \n",
    "\n",
    "# 3.) Print beta_hat \n",
    "print(beta_hat)"
   ]
  },
  {
   "cell_type": "markdown",
   "metadata": {},
   "source": [
    "## Exercise 5: Error Metrics\n",
    "\n",
    "A crucial part of machine learning is developing a series of metrics that tell how a model has performed. In the case of regression, we are interested in how \"close\" the model's predictions come to the true values. One way to check this error is with *Mean-Squared Error*. This is computed with the following equation: \n",
    "\n",
    "$$ MSE = \\frac{1}{N} \\sum_{i=1}^{N} (\\hat{y}_i - y_i)^2 $$ \n",
    "\n",
    "where $N$ is the total number of datapoints, $\\hat{y}_i$ is the model's prediction for a specific input, and $y_i$ is the true output at that input. \n",
    "\n",
    "To get credit for this exercise, you must: \n",
    "\n",
    "- Compute a `Y_hat` variable with the following expression: $ X \\hat{\\beta} = \\hat{Y}$; this is the model's best guess at maximum temperature given the features of $X$. \n",
    "- Define a function called `compute_mse` which takes two parameters, `Y_pred` and `Y_true`, which are numpy vectors of the same length and returns the mean squared error between them.\n",
    "- Call the function on your `Y_hat` vector you computed in the first step and the `Y` vector. Print the Mean Squared Error between these two vectors. "
   ]
  },
  {
   "cell_type": "code",
   "execution_count": 11,
   "metadata": {},
   "outputs": [
    {
     "name": "stdout",
     "output_type": "stream",
     "text": [
      "Model's Mean Squared Error: 1739.136\n"
     ]
    }
   ],
   "source": [
    "# Compute a Y_hat variable using your beta_hat variable from the previous sections \n",
    "Y_hat = X @ beta_hat \n",
    "\n",
    "# Define a function compute_mse that takes Y_pred and Y_true as parameters and returns the MSE between them: \n",
    "def compute_mse(Y_pred, Y_true):\n",
    "    Y_diff = (Y_pred - Y_true)**2 \n",
    "    N = len(Y_diff) \n",
    "    \n",
    "    return np.sum(Y_diff) / N \n",
    "\n",
    "# Print the MSE of the model's predictions, Y_hat and the true values stored in the vector Y \n",
    "print(\"Model's Mean Squared Error: %.3f\" %  compute_mse(Y_hat, Y))"
   ]
  },
  {
   "cell_type": "markdown",
   "metadata": {},
   "source": [
    "### **Free Response:** In your own words, interpret this value. What does this say about how good or bad our regression is? \n",
    "\n",
    "*Your response here*"
   ]
  },
  {
   "cell_type": "markdown",
   "metadata": {},
   "source": [
    "## Exercise 6: Visualizing Model Performance\n",
    "\n",
    "Oftentimes, it is useful to visualize the performance of a machine learning model to intuitively gauge how well the model has predicted the target values. \n",
    "\n",
    "* Import the `matplotlib.pyplot` module and rename it `plt` \n",
    "* Use `matplotlib` to plot a scatterplot of the `Y_hat`, or our model's predicted values on the X-Axis and `Y`, the true output values on the Y-Axis. Make the size of the points 0.5. \n",
    "* Add a grid, appropriate axis labels and a title to your plot "
   ]
  },
  {
   "cell_type": "code",
   "execution_count": 16,
   "metadata": {},
   "outputs": [
    {
     "data": {
      "text/plain": [
       "Text(0.5, 1.0, 'Actual Max Temp vs. Predicted Max Temp')"
      ]
     },
     "execution_count": 16,
     "metadata": {},
     "output_type": "execute_result"
    },
    {
     "data": {
      "image/png": "[encoded data removed]",
      "text/plain": [
       "<Figure size 640x480 with 1 Axes>"
      ]
     },
     "metadata": {},
     "output_type": "display_data"
    }
   ],
   "source": [
    "# Import the matplotlib.pyplot module and rename it 'plt' \n",
    "import matplotlib.pyplot as plt \n",
    "\n",
    "# PLot a scatterplot of Y_hat on the X-Axis and Y on the Y-Axis with appropriate sizing and labeling  \n",
    "plt.scatter(Y_hat, Y, s = 0.5)\n",
    "plt.grid()\n",
    "plt.xlabel(\"Model Predicted Maximum Temperature\")\n",
    "plt.ylabel(\"Actual Maximum Temperature\")\n",
    "plt.title(\"Actual Max Temp vs. Predicted Max Temp\")"
   ]
  },
  {
   "cell_type": "markdown",
   "metadata": {},
   "source": [
    "### **Free Response:** Describe how well the linear regression model is able to predict the maximum temperature. If the model performs perfectly (i.e. it 100% matches the true output values), how would this scatterplot look? If the model performs poorly (i.e. encounters high error in its predictions), how would it look?\n",
    "\n",
    "*Your response here*"
   ]
  },
  {
   "cell_type": "markdown",
   "metadata": {},
   "source": [
    "## Exercise 7: Cross-Validation\n",
    "\n",
    "The model's mean squared error is a good metric to assess model performance, but by itself, it doesn't mean much. What we are interested in is how well the model *generalizes* to unseen data. This is the process of **Cross-Validation**. We have provided some code to take the `X_df` and `Y_df` and split them into \"Train\" and \"Test\" sets. The `test_size=0.20` argument means we will hold out 20% of our data from the training process to evaluate the model on unseen data. We will train our model on the training data, and then evaluate how well our model performs on the \"Test\" data. To get credit for this exercise, you must: \n",
    "\n",
    "* Compute a new `beta_hat` only using the training dataframes, like we did in **Exercise 4**. \n",
    "* Use the training `beta_hat` to compute `Yhat_train` and `Yhat_test` arrays. (Like we did in **Exercise 5**). \n",
    "* Use your MSE function in **Exercise 5** to compute variables called `train_mse` and `test_mse`, the Mean Squared Error of the training data and the MSE of the testing data. Print out your results. "
   ]
  },
  {
   "cell_type": "code",
   "execution_count": 27,
   "metadata": {},
   "outputs": [
    {
     "name": "stdout",
     "output_type": "stream",
     "text": [
      "Training Mean Squared Error: 1741.318\n",
      "Testing  Mean Squared Error: 1730.420\n"
     ]
    }
   ],
   "source": [
    "## CODE PROVIDED; DO NOT MODIFY ---------------------\n",
    "\n",
    "# Importing Scikit-Learn library's train_test_split function \n",
    "from sklearn.model_selection import train_test_split\n",
    "\n",
    "# Splitting the X_df and Y_df into training and testing pairs with 20% of the data being held out for testing \n",
    "X_train, X_test, Y_train, Y_test = train_test_split(X_df, Y_df, test_size=0.20, random_state=42)\n",
    "\n",
    "# Converting these from pandas dataframes into numpy arrays \n",
    "X_train, X_test, Y_train, Y_test = X_train.values, X_test.values, Y_train.values, Y_test.values\n",
    "\n",
    "## BEGIN YOUR CODE: ---------------------------------\n",
    "\n",
    "# Compute a new beta_hat using only the training data \n",
    "beta_hat = np.linalg.inv(X_train.T @ X_train) @ X_train.T @ Y_train \n",
    "\n",
    "# Compute Yhat_train and Yhat_test arrays (i.e. model's predictions on X_train and X_test)\n",
    "Yhat_train = X_train @ beta_hat \n",
    "Yhat_test = X_test @ beta_hat \n",
    "\n",
    "# Use the MSE function from Exercise 5 to compute train_mse and test_mse \n",
    "train_mse = compute_mse(Yhat_train, Y_train)\n",
    "test_mse = compute_mse(Yhat_test, Y_test)\n",
    "print(\"Training Mean Squared Error: %.3f\" % (train_mse))\n",
    "print(\"Testing  Mean Squared Error: %.3f\" % (test_mse))"
   ]
  },
  {
   "cell_type": "markdown",
   "metadata": {},
   "source": [
    "### **Free Response:** What do the MSE Values for the train and test-set tell you? Has our model done a good job of generalizing to unseen data? \n",
    "\n",
    "*Your response here*"
   ]
  },
  {
   "cell_type": "markdown",
   "metadata": {},
   "source": [
    "## Exercise 8: Cross-Validation with Polynomial Features\n",
    "\n",
    "Because the model fit the data pretty well, we are now going to examine what happens when we add too many features. The provided code does a few things. First, we are only using 100 total datapoints. Second, we're going to add polynomial features up to order 3, using the `sklearn` library. This means that instead of simply having our parameters A, E, Ti, To, and Tmax as features, we will use every combination of these up to cubic nonlinearity (e.g. $AE^2$, $T_i^3$, $A T_o T_{max}$, etc). With nonlinear features, we are now able to capture nonlinear relationships between our features. \n",
    "\n",
    "To get credit for this exercise, please do exactly what you did in **Exercise 7** on this new dataset. "
   ]
  },
  {
   "cell_type": "code",
   "execution_count": 28,
   "metadata": {},
   "outputs": [
    {
     "name": "stdout",
     "output_type": "stream",
     "text": [
      "Training Mean Squared Error: 1.850\n",
      "Testing  Mean Squared Error: 83.218\n"
     ]
    }
   ],
   "source": [
    "## CODE PROVIDED; DO NOT MODIFY ---------------------\n",
    "\n",
    "# Importing Scikit-Learn functions\n",
    "from sklearn.model_selection import train_test_split\n",
    "from sklearn.preprocessing import PolynomialFeatures \n",
    "\n",
    "# Defining how many datapoints to use in our analysis \n",
    "n_datapoints = 100\n",
    "\n",
    "# Splitting the X_df and Y_df into training and testing pairs with 20% of the data being held out for testing \n",
    "X_train, X_test, Y_train, Y_test = train_test_split(X_df.loc[:n_datapoints,:], Y_df.loc[:n_datapoints,:], test_size=0.20, random_state=42)\n",
    "\n",
    "# Converting these from pandas dataframes into numpy arrays \n",
    "X_train, X_test, Y_train, Y_test = X_train.values, X_test.values, Y_train.values, Y_test.values\n",
    "\n",
    "# Generating polynomial features up to order 3 on the training/testing inputs \n",
    "poly_features = PolynomialFeatures(degree=3)\n",
    "X_train = poly_features.fit_transform(X_train)\n",
    "X_test = poly_features.transform(X_test)\n",
    "\n",
    "## BEGIN YOUR CODE: ---------------------------------\n",
    "\n",
    "# Compute a new beta_hat using only the training data \n",
    "beta_hat = np.linalg.inv(X_train.T @ X_train) @ X_train.T @ Y_train \n",
    "\n",
    "# Compute Yhat_train and Yhat_test arrays (i.e. model's predictions on X_train and X_test)\n",
    "Yhat_train = X_train @ beta_hat \n",
    "Yhat_test = X_test @ beta_hat \n",
    "\n",
    "# Use the MSE function from Exercise 5 to compute train_mse and test_mse \n",
    "train_mse = compute_mse(Yhat_train, Y_train)\n",
    "test_mse = compute_mse(Yhat_test, Y_test)\n",
    "print(\"Training Mean Squared Error: %.3f\" % (train_mse))\n",
    "print(\"Testing  Mean Squared Error: %.3f\" % (test_mse))"
   ]
  },
  {
   "cell_type": "markdown",
   "metadata": {},
   "source": [
    "### **Free Response:** How does the nonlinear model compare to the linear model? What do the MSE Values for the train and test-set tell us? Explain what you think might be going on here. (Hint: What dimension is `beta_hat` now?)\n",
    "\n",
    "*Your response here*"
   ]
  }
 ],
 "metadata": {
  "kernelspec": {
   "display_name": "Python 3",
   "language": "python",
   "name": "python3"
  },
  "language_info": {
   "codemirror_mode": {
    "name": "ipython",
    "version": 3
   },
   "file_extension": ".py",
   "mimetype": "text/x-python",
   "name": "python",
   "nbconvert_exporter": "python",
   "pygments_lexer": "ipython3",
   "version": "3.11.4"
  }
 },
 "nbformat": 4,
 "nbformat_minor": 2
}
