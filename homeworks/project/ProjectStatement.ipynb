{
 "cells": [
  {
   "cell_type": "markdown",
   "metadata": {},
   "source": [
    "# ML for AE Term Project \n",
    "\n",
    "In this term project, we will use the results from the following investigating into \"meta-materials\"\n",
    "\n",
    "[1] B. Deng, A. Zareei, X. Ding, J. C. Weaver, C. H. Rycroft, and K. Bertoldi, “Inverse Design of Mechanical Metamaterials with Target Nonlinear Response via a Neural Accelerated Evolution Strategy,” Advanced Materials, vol. 34, no. 41, Sep. 2022, doi: https://doi.org/10.1002/adma.202206238.\n",
    "\n",
    "See https://www.youtube.com/watch?v=_TWHBZOqBiM&t=119s for a brief video explanation of this topic. \n",
    "\n",
    "*All images are taken from this paper.*\n",
    "\n",
    "## Problem Statement \n",
    "\n",
    "\"Metamaterials\" are a way to design materials in specific geometries such that applying strain to these materials makes them behave in specific nonlinear ways. In the elastic deformation region, most materials behave linearly i.e. when we deform them by a specific amount, they exhibit a proportional amount of stress. This is described by Young's Modulus, $E$. However, with specific *geometries* of the material, we can design materials that behave nonlinearly within the elastic region: \n",
    "\n",
    "<img src=\"images/nonlinear_stress_strain.png\" alt=\"alt text\"  style=\"display:block; margin-left:auto; margin-right:auto; width:50%;\">\n",
    "\n",
    "Notice how as the applied strain, $\\epsilon$, increases the nominal stress in the material (the force needed to produce $\\epsilon$ divided by the original cross-sectional area of the material) begins linearly and then abruptly drops as the material snaps into a different equilibrium state.\n",
    "\n",
    "The question drawn from the paper that will form the basis of our project is: \n",
    "\n",
    "**\"How can we use machine learning to efficiently predict the nominal stress, $\\sigma$, needed for a certain strain, $\\epsilon$, from the geometry of the material?\"** \n",
    "\n",
    "The first step to any ML problem is formally defining what features we will observe about our system and what outputs we seek to predict. "
   ]
  },
  {
   "cell_type": "markdown",
   "metadata": {},
   "source": [
    "## Feature-Selection\n",
    "\n",
    "We first need to formalize the design of the materials into a set of parameters used to train a machine learning model. Specifically, Deng+ et al. observe that we can entirely define a regular, repeating mesh using eight independent points along a lattice (see below). The vertical and horizontal perturbations to each independent point define a set of 16 input features to our model.  \n",
    "\n",
    "<img src=\"images/coordinate_features.png\" alt=\"alt text\"  style=\"display:block; margin-left:auto; margin-right:auto; width:50%;\">\n",
    "\n",
    "We will also use the desired strain, $\\epsilon$, defined as the ratio between deformation and the free-length of the material. This will allow us to pose this problem as, \"given this specific metamaterial geometry, what stress, $\\sigma$, is needed to produce a strain of $\\epsilon$?\" "
   ]
  },
  {
   "cell_type": "markdown",
   "metadata": {},
   "source": [
    "## Feature/Output Summary\n",
    "**Inputs:**\n",
    "* $\\theta \\in \\mathbb{R}^{16}$: The 16-dimensional vector of coordinate perturbations defining the geometry of the metamaterial's mesh. \n",
    "* $\\epsilon \\in \\mathbb{R}$: The desired strain we wish to produce in the material. \n",
    "\n",
    "**Outputs:** the nominal stress, $\\sigma$, required to produce this strain. "
   ]
  },
  {
   "cell_type": "code",
   "execution_count": 43,
   "metadata": {},
   "outputs": [],
   "source": [
    "import pandas as pd \n",
    "import numpy as np \n",
    "from tqdm import tqdm"
   ]
  },
  {
   "cell_type": "markdown",
   "metadata": {},
   "source": [
    "Probs not gonna be feasible to do it like this:"
   ]
  },
  {
   "cell_type": "code",
   "execution_count": 76,
   "metadata": {},
   "outputs": [
    {
     "name": "stderr",
     "output_type": "stream",
     "text": [
      "100%|██████████| 30000/30000 [10:38<00:00, 46.98it/s]  \n"
     ]
    }
   ],
   "source": [
    "X_df = pd.read_csv(\"geometry_input.csv\", header=None)\n",
    "Y_df = pd.read_csv(\"stress_output.csv\", header=None)\n",
    "eps_min = 0.0 \n",
    "eps_max = -0.1 \n",
    "\n",
    "# Renaming the columns to match the diagram \n",
    "geometry_col_names = []\n",
    "for i in range(8):\n",
    "    geometry_col_names += [\"u_\" + str(i+1), \"v_\" + str(i+1)]\n",
    "\n",
    "X_df.columns = geometry_col_names\n",
    "\n",
    "# Adding epsilon column to new input dataframe \n",
    "\n",
    "new_X = []\n",
    "new_Y = []\n",
    "\n",
    "for i, row in tqdm(Y_df.iterrows(), total = len(Y_df)):\n",
    "    for j in range(100):\n",
    "        temp_df = X_df.loc[i,:].copy()\n",
    "        temp_df['eps'] = j/100 * eps_max \n",
    "        new_X.append(temp_df)\n",
    "        new_Y.append(Y_df.loc[i, j])\n",
    "\n",
    "new_X = pd.DataFrame(new_X)\n",
    "new_Y = pd.DataFrame(new_Y)"
   ]
  }
 ],
 "metadata": {
  "kernelspec": {
   "display_name": "Python 3",
   "language": "python",
   "name": "python3"
  },
  "language_info": {
   "codemirror_mode": {
    "name": "ipython",
    "version": 3
   },
   "file_extension": ".py",
   "mimetype": "text/x-python",
   "name": "python",
   "nbconvert_exporter": "python",
   "pygments_lexer": "ipython3",
   "version": "3.11.9"
  }
 },
 "nbformat": 4,
 "nbformat_minor": 2
}
