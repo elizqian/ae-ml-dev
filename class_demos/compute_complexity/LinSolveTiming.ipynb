{
 "cells": [
  {
   "cell_type": "code",
   "execution_count": 3,
   "metadata": {},
   "outputs": [],
   "source": [
    "import numpy as np \n",
    "from datetime import datetime\n",
    "from tqdm import tqdm # tqdm is a useful library for timing for-loops \n",
    "import matplotlib.pyplot as plt \n",
    "\n",
    "# Solve_timed function for computing how long it takes to solve a \n",
    "# linear system using numpy \n",
    "def solve_timed(A, b):\n",
    "    # computes the time when the computation is started\n",
    "    start_time = datetime.now() \n",
    "    # runs the linear solve \n",
    "    x = np.linalg.solve(A,b)\n",
    "    # Computes how long the computation took \n",
    "    time_delta = datetime.now() - start_time \n",
    "    # returns the result and the total number of seconds the solve took \n",
    "    return x, time_delta.total_seconds()"
   ]
  },
  {
   "cell_type": "code",
   "execution_count": 7,
   "metadata": {},
   "outputs": [],
   "source": [
    "# PARAMETERS - CHANGE THESE \n",
    "num_trials = 10 # Number of distinct linear solves to time \n",
    "min_size = 1000 # Dimension of the smallest linear solve\n",
    "max_size = 20000 # Dimension of the largest linear solve "
   ]
  },
  {
   "cell_type": "code",
   "execution_count": 8,
   "metadata": {},
   "outputs": [
    {
     "name": "stderr",
     "output_type": "stream",
     "text": [
      " 80%|████████  | 8/10 [00:20<00:05,  2.56s/it]\n"
     ]
    },
    {
     "ename": "KeyboardInterrupt",
     "evalue": "",
     "output_type": "error",
     "traceback": [
      "\u001b[0;31m---------------------------------------------------------------------------\u001b[0m",
      "\u001b[0;31mKeyboardInterrupt\u001b[0m                         Traceback (most recent call last)",
      "Cell \u001b[0;32mIn[8], line 14\u001b[0m\n\u001b[1;32m      8\u001b[0m \u001b[38;5;66;03m# Iterate through the problem sizes \u001b[39;00m\n\u001b[1;32m      9\u001b[0m \u001b[38;5;28;01mfor\u001b[39;00m i, N \u001b[38;5;129;01min\u001b[39;00m tqdm(\u001b[38;5;28menumerate\u001b[39m(Ns), total \u001b[38;5;241m=\u001b[39m num_trials): \n\u001b[1;32m     10\u001b[0m \n\u001b[1;32m     11\u001b[0m \n\u001b[1;32m     12\u001b[0m     \u001b[38;5;66;03m# Form a random A and B matrix \u001b[39;00m\n\u001b[1;32m     13\u001b[0m     \u001b[38;5;66;03m# We use np.eye(N) to make sure A is invertible and better conditioned\u001b[39;00m\n\u001b[0;32m---> 14\u001b[0m     A \u001b[38;5;241m=\u001b[39m \u001b[43mnp\u001b[49m\u001b[38;5;241;43m.\u001b[39;49m\u001b[43mrandom\u001b[49m\u001b[38;5;241;43m.\u001b[39;49m\u001b[43mrandn\u001b[49m\u001b[43m(\u001b[49m\u001b[43mN\u001b[49m\u001b[43m,\u001b[49m\u001b[43mN\u001b[49m\u001b[43m)\u001b[49m \u001b[38;5;241m+\u001b[39m \u001b[38;5;241m1e-2\u001b[39m\u001b[38;5;241m*\u001b[39mnp\u001b[38;5;241m.\u001b[39meye(N) \n\u001b[1;32m     15\u001b[0m     b \u001b[38;5;241m=\u001b[39m np\u001b[38;5;241m.\u001b[39mrandom\u001b[38;5;241m.\u001b[39mrandn(N,\u001b[38;5;241m1\u001b[39m)\n\u001b[1;32m     17\u001b[0m     \u001b[38;5;66;03m# We solve the system using the provided solve_timed function \u001b[39;00m\n",
      "\u001b[0;31mKeyboardInterrupt\u001b[0m: "
     ]
    }
   ],
   "source": [
    "# Create a vector of num_trials logarithmically spaced points between min_size and max_size\n",
    "# to denote the size of each linear system solve \n",
    "Ns = np.logspace(np.log10(min_size), np.log10(max_size), num_trials, dtype = np.int64)\n",
    "# Create a vector to store how long it takes each linear solve to complete\n",
    "compute_times = np.zeros(num_trials)\n",
    "# Set the random seed at each iteration so the runs are repeatable \n",
    "np.random.seed(42)\n",
    "# Iterate through the problem sizes \n",
    "for i, N in tqdm(enumerate(Ns), total = num_trials): \n",
    "\n",
    "\n",
    "    # Form a random A and B matrix \n",
    "    # We use np.eye(N) to make sure A is invertible and better conditioned\n",
    "    A = np.random.randn(N,N) + 1e-2*np.eye(N) \n",
    "    b = np.random.randn(N,1)\n",
    "    print(N)\n",
    "\n",
    "    # We solve the system using the provided solve_timed function \n",
    "    _, seconds = solve_timed(A,b)\n",
    "    compute_times[i] = seconds"
   ]
  },
  {
   "cell_type": "code",
   "execution_count": null,
   "metadata": {},
   "outputs": [],
   "source": [
    "# Create a figure with width=10in , height=4in, dpi/resolution (dots per inch) = 150\n",
    "plt.figure(figsize=(10,4), dpi=150)\n",
    "\n",
    "# Plot a linear graph on the first subplot \n",
    "plt.subplot(1,2,1)\n",
    "plt.scatter(Ns, compute_times, s = 10.0)\n",
    "plt.grid() \n",
    "plt.xlabel(\"Problem Dimension ($n$)\")\n",
    "plt.ylabel(\"Solve Time (Seconds)\")\n",
    "plt.title(\"Compute Time vs. Problem Size\")\n",
    "\n",
    "# Plot the same graph with logarithmically scaled axes on the second subplot\n",
    "plt.subplot(1,2,2)\n",
    "plt.scatter(Ns, compute_times, s = 10.0)\n",
    "plt.xscale('log')\n",
    "plt.yscale('log')\n",
    "plt.grid() \n",
    "plt.xlabel(\"Problem Dimension ($n$)\")\n",
    "plt.ylabel(\"Solve Time (Seconds)\")\n",
    "plt.title(\"Log(Compute Time) vs. Log(Problem Size)\")"
   ]
  }
 ],
 "metadata": {
  "kernelspec": {
   "display_name": "Python 3",
   "language": "python",
   "name": "python3"
  },
  "language_info": {
   "codemirror_mode": {
    "name": "ipython",
    "version": 3
   },
   "file_extension": ".py",
   "mimetype": "text/x-python",
   "name": "python",
   "nbconvert_exporter": "python",
   "pygments_lexer": "ipython3",
   "version": "3.11.4"
  }
 },
 "nbformat": 4,
 "nbformat_minor": 2
}
